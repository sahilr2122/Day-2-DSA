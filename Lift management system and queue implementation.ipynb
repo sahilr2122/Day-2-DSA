{
 "cells": [
  {
   "cell_type": "code",
   "execution_count": null,
   "id": "a32f8e9a",
   "metadata": {},
   "outputs": [],
   "source": []
  },
  {
   "cell_type": "markdown",
   "id": "d997be46",
   "metadata": {},
   "source": [
    "# DAY 2"
   ]
  },
  {
   "cell_type": "code",
   "execution_count": 2,
   "id": "425fb246",
   "metadata": {},
   "outputs": [
    {
     "name": "stdout",
     "output_type": "stream",
     "text": [
      "Queue after enqueue operations: [1, 2, 3]\n",
      "Front of queue: 1\n",
      "Queue size: 3\n",
      "Dequeued item: 1\n",
      "Queue after dequeue operation: [2, 3]\n",
      "Queue after enqueueing 4: [2, 3, 4]\n"
     ]
    }
   ],
   "source": [
    "class Queue:  \n",
    "    def __init__(self):  # Corrected the constructor name here  \n",
    "        self.items = []  \n",
    "\n",
    "    def is_empty(self):  \n",
    "        return len(self.items) == 0  \n",
    "\n",
    "    def enqueue(self, item):  \n",
    "        self.items.insert(0, item)  \n",
    "\n",
    "    def dequeue(self):  \n",
    "        if not self.is_empty():  \n",
    "            return self.items.pop()  \n",
    "        else:  \n",
    "            return \"Queue is empty\"  \n",
    "\n",
    "    def front(self):  \n",
    "        if not self.is_empty():  \n",
    "            return self.items[-1]  \n",
    "        else:  \n",
    "            return \"Queue is empty\"  \n",
    "\n",
    "    def size(self):  \n",
    "        return len(self.items)  \n",
    "\n",
    "    def display(self):  \n",
    "        return self.items[::-1]  \n",
    "\n",
    "q = Queue()  \n",
    "\n",
    "q.enqueue(1)  \n",
    "q.enqueue(2)  \n",
    "q.enqueue(3)  \n",
    "\n",
    "print(\"Queue after enqueue operations:\", q.display())  \n",
    "print(\"Front of queue:\", q.front())  \n",
    "print(\"Queue size:\", q.size())  \n",
    "\n",
    "# Dequeue operation  \n",
    "print(\"Dequeued item:\", q.dequeue())  \n",
    "print(\"Queue after dequeue operation:\", q.display())  \n",
    "\n",
    "# Enqueue another item  \n",
    "q.enqueue(4)  \n",
    "print(\"Queue after enqueueing 4:\", q.display())"
   ]
  },
  {
   "cell_type": "markdown",
   "id": "93f0fda3",
   "metadata": {},
   "source": [
    "# Lift Management System"
   ]
  },
  {
   "cell_type": "code",
   "execution_count": null,
   "id": "e22306fb",
   "metadata": {},
   "outputs": [
    {
     "name": "stdout",
     "output_type": "stream",
     "text": [
      "\n",
      "Current Floor: 0\n",
      "1. Request a floor\n",
      "2. Move lift\n",
      "3. Exit\n",
      "Choose an option: 1\n",
      "Enter floor number to request: 5\n",
      "Floor 5 requested.\n",
      "Moving lift from floor 0 to floor 5\n",
      "\n",
      "Current Floor: 5\n",
      "1. Request a floor\n",
      "2. Move lift\n",
      "3. Exit\n",
      "Choose an option: 2\n",
      "No more floor requests.\n",
      "\n",
      "Current Floor: 5\n",
      "1. Request a floor\n",
      "2. Move lift\n",
      "3. Exit\n"
     ]
    }
   ],
   "source": [
    "from queue import Queue\n",
    "\n",
    "class LiftManagement:\n",
    "    def __init__(self):\n",
    "        self.floor_queue = Queue()\n",
    "        self.current_floor = 0  # Assuming the lift starts at the ground floor (0)\n",
    "\n",
    "    # Add a floor request to the queue\n",
    "    def request_floor(self, floor):\n",
    "        if floor != self.current_floor:\n",
    "            print(f\"Floor {floor} requested.\")\n",
    "            self.floor_queue.put(floor)\n",
    "        else:\n",
    "            print(f\"Lift is already on floor {floor}\")\n",
    "\n",
    "    # Process the next floor request in the queue\n",
    "    def move_lift(self):\n",
    "        if not self.floor_queue.empty():\n",
    "            next_floor = self.floor_queue.get()  # Remove the next floor from the queue\n",
    "            print(f\"Moving lift from floor {self.current_floor} to floor {next_floor}\")\n",
    "            self.current_floor = next_floor\n",
    "        else:\n",
    "            print(\"No more floor requests.\")\n",
    "\n",
    "    # Get the current floor of the lift\n",
    "    def get_current_floor(self):\n",
    "        return self.current_floor\n",
    "\n",
    "    def has_pending_requests(self):\n",
    "        return not self.floor_queue.empty()\n",
    "\n",
    "def main():\n",
    "    lift = LiftManagement()\n",
    "    running = True\n",
    "\n",
    "    while running:\n",
    "        print(f\"\\nCurrent Floor: {lift.get_current_floor()}\")\n",
    "        print(\"1. Request a floor\")\n",
    "        print(\"2. Move lift\")\n",
    "        print(\"3. Exit\")\n",
    "        option = int(input(\"Choose an option: \"))\n",
    "\n",
    "        if option == 1:\n",
    "            floor = int(input(\"Enter floor number to request: \"))\n",
    "            lift.request_floor(floor)\n",
    "        elif option == 2:\n",
    "            lift.move_lift()\n",
    "        elif option == 3:\n",
    "            running = False\n",
    "            print(\"Exiting lift management system.\")\n",
    "        else:\n",
    "            print(\"Invalid option. Please try again.\")\n",
    "\n",
    "        # Automatically process pending requests\n",
    "        while lift.has_pending_requests():\n",
    "            lift.move_lift()\n",
    "\n",
    "if __name__ == \"__main__\":\n",
    "    main()\n"
   ]
  },
  {
   "cell_type": "code",
   "execution_count": null,
   "id": "cfac9ae1",
   "metadata": {},
   "outputs": [],
   "source": []
  }
 ],
 "metadata": {
  "kernelspec": {
   "display_name": "Python 3 (ipykernel)",
   "language": "python",
   "name": "python3"
  },
  "language_info": {
   "codemirror_mode": {
    "name": "ipython",
    "version": 3
   },
   "file_extension": ".py",
   "mimetype": "text/x-python",
   "name": "python",
   "nbconvert_exporter": "python",
   "pygments_lexer": "ipython3",
   "version": "3.9.13"
  }
 },
 "nbformat": 4,
 "nbformat_minor": 5
}
